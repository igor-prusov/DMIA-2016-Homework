{
 "cells": [
  {
   "cell_type": "markdown",
   "metadata": {},
   "source": [
    "# Python"
   ]
  },
  {
   "cell_type": "markdown",
   "metadata": {},
   "source": [
    "## 1. Fizzbuzz question"
   ]
  },
  {
   "cell_type": "markdown",
   "metadata": {},
   "source": [
    "Напишите программу, которая выводит на экран числа от 1 до 100. При этом вместо чисел, кратных трем, программа должна выводить слово «Fizz», а вместо чисел, кратных пяти — слово «Buzz». Если число кратно и 3, и 5, то программа должна выводить слово «FizzBuzz»"
   ]
  },
  {
   "cell_type": "code",
   "execution_count": 336,
   "metadata": {
    "collapsed": false
   },
   "outputs": [
    {
     "name": "stdout",
     "output_type": "stream",
     "text": [
      "1\n",
      "2\n",
      "Fizz\n",
      "4\n",
      "Buzz\n",
      "Fizz\n",
      "7\n",
      "8\n",
      "Fizz\n",
      "Buzz\n",
      "11\n",
      "Fizz\n",
      "13\n",
      "14\n",
      "FizzBuzz\n",
      "16\n",
      "17\n",
      "Fizz\n",
      "19\n",
      "Buzz\n",
      "Fizz\n",
      "22\n",
      "23\n",
      "Fizz\n",
      "Buzz\n",
      "26\n",
      "Fizz\n",
      "28\n",
      "29\n",
      "FizzBuzz\n",
      "31\n",
      "32\n",
      "Fizz\n",
      "34\n",
      "Buzz\n",
      "Fizz\n",
      "37\n",
      "38\n",
      "Fizz\n",
      "Buzz\n",
      "41\n",
      "Fizz\n",
      "43\n",
      "44\n",
      "FizzBuzz\n",
      "46\n",
      "47\n",
      "Fizz\n",
      "49\n",
      "Buzz\n",
      "Fizz\n",
      "52\n",
      "53\n",
      "Fizz\n",
      "Buzz\n",
      "56\n",
      "Fizz\n",
      "58\n",
      "59\n",
      "FizzBuzz\n",
      "61\n",
      "62\n",
      "Fizz\n",
      "64\n",
      "Buzz\n",
      "Fizz\n",
      "67\n",
      "68\n",
      "Fizz\n",
      "Buzz\n",
      "71\n",
      "Fizz\n",
      "73\n",
      "74\n",
      "FizzBuzz\n",
      "76\n",
      "77\n",
      "Fizz\n",
      "79\n",
      "Buzz\n",
      "Fizz\n",
      "82\n",
      "83\n",
      "Fizz\n",
      "Buzz\n",
      "86\n",
      "Fizz\n",
      "88\n",
      "89\n",
      "FizzBuzz\n",
      "91\n",
      "92\n",
      "Fizz\n",
      "94\n",
      "Buzz\n",
      "Fizz\n",
      "97\n",
      "98\n",
      "Fizz\n",
      "Buzz\n"
     ]
    }
   ],
   "source": [
    "for i in range(1, 101):\n",
    "    s = ''\n",
    "    if i % 3 == 0:\n",
    "        s += \"Fizz\"\n",
    "    if i % 5 == 0:\n",
    "        s += \"Buzz\"\n",
    "    if not s:\n",
    "        s+= str(i)\n",
    "    print s"
   ]
  },
  {
   "cell_type": "markdown",
   "metadata": {},
   "source": [
    "## 2. Вычисление сотого числа Фибоначчи"
   ]
  },
  {
   "cell_type": "code",
   "execution_count": 337,
   "metadata": {
    "collapsed": true
   },
   "outputs": [],
   "source": [
    "def fib(n):\n",
    "    l = [1, 1]\n",
    "    for i in range(2, n):\n",
    "        l = [l[1], l[0] + l[1]]\n",
    "        #print l[0], l[1]\n",
    "    return l[1]"
   ]
  },
  {
   "cell_type": "code",
   "execution_count": 338,
   "metadata": {
    "collapsed": false
   },
   "outputs": [
    {
     "data": {
      "text/plain": [
       "354224848179261915075L"
      ]
     },
     "execution_count": 338,
     "metadata": {},
     "output_type": "execute_result"
    }
   ],
   "source": [
    "fib(100)"
   ]
  },
  {
   "cell_type": "markdown",
   "metadata": {},
   "source": [
    "## 3. Quick sort (pivot всегда 0)"
   ]
  },
  {
   "cell_type": "code",
   "execution_count": 339,
   "metadata": {
    "collapsed": true
   },
   "outputs": [],
   "source": [
    "def qsort(arr):\n",
    "    #print arr\n",
    "    if len(arr) == 1:\n",
    "        return arr\n",
    "    for i in range(len(arr)):\n",
    "        #print arr[i]\n",
    "        if arr[i] < arr[0]:\n",
    "            t = arr[i]\n",
    "            arr[i] = arr[0]\n",
    "            arr[0] = t\n",
    "    arr[1:] = qsort(arr[1:])\n",
    "    return arr\n",
    "    "
   ]
  },
  {
   "cell_type": "code",
   "execution_count": 340,
   "metadata": {
    "collapsed": false
   },
   "outputs": [
    {
     "name": "stdout",
     "output_type": "stream",
     "text": [
      "[18 27  7 76 35 38 37 67 50 30]\n",
      "[ 7 18 27 30 35 37 38 50 67 76]\n"
     ]
    }
   ],
   "source": [
    "l = np.random.randint(1, 100, 10)\n",
    "print l\n",
    "print qsort(l)"
   ]
  },
  {
   "cell_type": "markdown",
   "metadata": {},
   "source": [
    "## 4. Quick sort with list comprehension"
   ]
  },
  {
   "cell_type": "code",
   "execution_count": 341,
   "metadata": {
    "collapsed": true
   },
   "outputs": [],
   "source": [
    "def l_qsort(arr):\n",
    "    return [min(arr)] + qsort(arr[1:])"
   ]
  },
  {
   "cell_type": "code",
   "execution_count": 342,
   "metadata": {
    "collapsed": false
   },
   "outputs": [
    {
     "name": "stdout",
     "output_type": "stream",
     "text": [
      "[91 21 87 75 60 61 84 78 31 41]\n",
      "[ 42  52  62  81  82  96  99 105 108]\n"
     ]
    }
   ],
   "source": [
    "l = np.random.randint(1, 100, 10)\n",
    "print l\n",
    "print l_qsort(l)"
   ]
  },
  {
   "cell_type": "markdown",
   "metadata": {},
   "source": [
    "# NumPy"
   ]
  },
  {
   "cell_type": "markdown",
   "metadata": {},
   "source": [
    "## 1. Аналог numpy.linspace с использованием цикла и с использованием list comprehension"
   ]
  },
  {
   "cell_type": "code",
   "execution_count": 343,
   "metadata": {
    "collapsed": true
   },
   "outputs": [],
   "source": [
    "import numpy as np"
   ]
  },
  {
   "cell_type": "code",
   "execution_count": 344,
   "metadata": {
    "collapsed": false
   },
   "outputs": [
    {
     "name": "stdout",
     "output_type": "stream",
     "text": [
      "[  7.          10.83333333  14.66666667  18.5         22.33333333\n",
      "  26.16666667  30.          33.83333333  37.66666667  41.5         45.33333333\n",
      "  49.16666667  53.          56.83333333  60.66666667  64.5         68.33333333\n",
      "  72.16666667  76.          79.83333333  83.66666667  87.5         91.33333333\n",
      "  95.16666667  99.        ]\n"
     ]
    }
   ],
   "source": [
    "print np.linspace(7, 99, 25)"
   ]
  },
  {
   "cell_type": "code",
   "execution_count": 345,
   "metadata": {
    "collapsed": false
   },
   "outputs": [],
   "source": [
    "def linspace_loop(start, stop, num=50):\n",
    "    linspace_loop.eps = 10 ** -10\n",
    "    num = float(num)\n",
    "    l = []\n",
    "    step = (stop - start) / (num-1)\n",
    "    #print step\n",
    "    i = start\n",
    "    #while abs(i - stop) > linspace_loop.eps:\n",
    "    while i < stop:\n",
    "        l.append(i)\n",
    "        i += step\n",
    "    return l"
   ]
  },
  {
   "cell_type": "code",
   "execution_count": 346,
   "metadata": {
    "collapsed": false
   },
   "outputs": [
    {
     "data": {
      "text/plain": [
       "[7,\n",
       " 10.833333333333334,\n",
       " 14.666666666666668,\n",
       " 18.5,\n",
       " 22.333333333333332,\n",
       " 26.166666666666664,\n",
       " 29.999999999999996,\n",
       " 33.83333333333333,\n",
       " 37.666666666666664,\n",
       " 41.5,\n",
       " 45.333333333333336,\n",
       " 49.16666666666667,\n",
       " 53.00000000000001,\n",
       " 56.83333333333334,\n",
       " 60.66666666666668,\n",
       " 64.50000000000001,\n",
       " 68.33333333333334,\n",
       " 72.16666666666667,\n",
       " 76.0,\n",
       " 79.83333333333333,\n",
       " 83.66666666666666,\n",
       " 87.49999999999999,\n",
       " 91.33333333333331,\n",
       " 95.16666666666664,\n",
       " 98.99999999999997]"
      ]
     },
     "execution_count": 346,
     "metadata": {},
     "output_type": "execute_result"
    }
   ],
   "source": [
    "linspace_loop(7, 99, 25)"
   ]
  },
  {
   "cell_type": "code",
   "execution_count": 347,
   "metadata": {
    "collapsed": true
   },
   "outputs": [],
   "source": [
    "def linspace_comprehension(start, stop, num=50):\n",
    "    n = float(num)\n",
    "    step = (stop - start) / (n-1)\n",
    "    #print step\n",
    "    return [start + x * step for x in range(num) ]"
   ]
  },
  {
   "cell_type": "code",
   "execution_count": 348,
   "metadata": {
    "collapsed": false
   },
   "outputs": [
    {
     "data": {
      "text/plain": [
       "[7.0,\n",
       " 10.833333333333334,\n",
       " 14.666666666666668,\n",
       " 18.5,\n",
       " 22.333333333333336,\n",
       " 26.166666666666668,\n",
       " 30.0,\n",
       " 33.833333333333336,\n",
       " 37.66666666666667,\n",
       " 41.5,\n",
       " 45.333333333333336,\n",
       " 49.16666666666667,\n",
       " 53.0,\n",
       " 56.833333333333336,\n",
       " 60.66666666666667,\n",
       " 64.5,\n",
       " 68.33333333333334,\n",
       " 72.16666666666667,\n",
       " 76.0,\n",
       " 79.83333333333334,\n",
       " 83.66666666666667,\n",
       " 87.5,\n",
       " 91.33333333333334,\n",
       " 95.16666666666667,\n",
       " 99.0]"
      ]
     },
     "execution_count": 348,
     "metadata": {},
     "output_type": "execute_result"
    }
   ],
   "source": [
    "linspace_comprehension(7,99, 25)"
   ]
  },
  {
   "cell_type": "code",
   "execution_count": 349,
   "metadata": {
    "collapsed": false
   },
   "outputs": [
    {
     "name": "stdout",
     "output_type": "stream",
     "text": [
      "CPU times: user 1.91 s, sys: 136 ms, total: 2.05 s\n",
      "Wall time: 2.11 s\n"
     ]
    }
   ],
   "source": [
    "%time l = linspace_comprehension(0, 50000, num=9000000)"
   ]
  },
  {
   "cell_type": "code",
   "execution_count": 350,
   "metadata": {
    "collapsed": false
   },
   "outputs": [
    {
     "name": "stdout",
     "output_type": "stream",
     "text": [
      "CPU times: user 2.55 s, sys: 115 ms, total: 2.67 s\n",
      "Wall time: 2.71 s\n"
     ]
    }
   ],
   "source": [
    "%time l =linspace_loop(0, 50000, num=9000000)"
   ]
  },
  {
   "cell_type": "code",
   "execution_count": 351,
   "metadata": {
    "collapsed": false
   },
   "outputs": [
    {
     "name": "stdout",
     "output_type": "stream",
     "text": [
      "CPU times: user 38.5 ms, sys: 41.9 ms, total: 80.3 ms\n",
      "Wall time: 83.5 ms\n"
     ]
    },
    {
     "data": {
      "text/plain": [
       "array([  0.00000000e+00,   5.55555617e-03,   1.11111123e-02, ...,\n",
       "         4.99999889e+04,   4.99999944e+04,   5.00000000e+04])"
      ]
     },
     "execution_count": 351,
     "metadata": {},
     "output_type": "execute_result"
    }
   ],
   "source": [
    "%time np.linspace(0, 50000, num=9000000)"
   ]
  },
  {
   "cell_type": "markdown",
   "metadata": {
    "collapsed": true
   },
   "source": [
    "## 2. Сравните по производительности основные операции с массивами numpy.ndarray и list\n"
   ]
  },
  {
   "cell_type": "code",
   "execution_count": 352,
   "metadata": {
    "collapsed": false
   },
   "outputs": [],
   "source": [
    "numpy_array = (np.random.randint(1, 10000000, 100000000))\n",
    "python_list = list(numpy_array)"
   ]
  },
  {
   "cell_type": "markdown",
   "metadata": {},
   "source": [
    "### Indexing"
   ]
  },
  {
   "cell_type": "code",
   "execution_count": 353,
   "metadata": {
    "collapsed": false
   },
   "outputs": [
    {
     "name": "stdout",
     "output_type": "stream",
     "text": [
      "CPU times: user 5 µs, sys: 0 ns, total: 5 µs\n",
      "Wall time: 7.87 µs\n",
      "CPU times: user 3 µs, sys: 1 µs, total: 4 µs\n",
      "Wall time: 6.2 µs\n"
     ]
    },
    {
     "data": {
      "text/plain": [
       "6122963"
      ]
     },
     "execution_count": 353,
     "metadata": {},
     "output_type": "execute_result"
    }
   ],
   "source": [
    "%time numpy_array[50]\n",
    "%time python_list[50]"
   ]
  },
  {
   "cell_type": "markdown",
   "metadata": {},
   "source": [
    "### Append"
   ]
  },
  {
   "cell_type": "code",
   "execution_count": 354,
   "metadata": {
    "collapsed": false
   },
   "outputs": [
    {
     "name": "stdout",
     "output_type": "stream",
     "text": [
      "CPU times: user 215 ms, sys: 189 ms, total: 404 ms\n",
      "Wall time: 405 ms\n",
      "CPU times: user 3 µs, sys: 0 ns, total: 3 µs\n",
      "Wall time: 5.01 µs\n"
     ]
    }
   ],
   "source": [
    "%time np.append(numpy_array,-10)\n",
    "%time python_list.append(-10)"
   ]
  },
  {
   "cell_type": "markdown",
   "metadata": {},
   "source": [
    "### Search"
   ]
  },
  {
   "cell_type": "code",
   "execution_count": 355,
   "metadata": {
    "collapsed": false
   },
   "outputs": [
    {
     "name": "stdout",
     "output_type": "stream",
     "text": [
      "CPU times: user 96.8 ms, sys: 36.8 ms, total: 134 ms\n",
      "Wall time: 133 ms\n",
      "CPU times: user 428 ms, sys: 872 µs, total: 429 ms\n",
      "Wall time: 430 ms\n"
     ]
    },
    {
     "data": {
      "text/plain": [
       "True"
      ]
     },
     "execution_count": 355,
     "metadata": {},
     "output_type": "execute_result"
    }
   ],
   "source": [
    "%time 42 in numpy_array\n",
    "%time 42 in python_list"
   ]
  },
  {
   "cell_type": "code",
   "execution_count": 356,
   "metadata": {
    "collapsed": true
   },
   "outputs": [],
   "source": [
    "import random"
   ]
  },
  {
   "cell_type": "code",
   "execution_count": 357,
   "metadata": {
    "collapsed": true
   },
   "outputs": [],
   "source": [
    "t = random.choice(python_list)"
   ]
  },
  {
   "cell_type": "code",
   "execution_count": 358,
   "metadata": {
    "collapsed": false
   },
   "outputs": [
    {
     "name": "stdout",
     "output_type": "stream",
     "text": [
      "CPU times: user 195 ms, sys: 193 ms, total: 388 ms\n",
      "Wall time: 388 ms\n",
      "CPU times: user 172 ms, sys: 803 µs, total: 173 ms\n",
      "Wall time: 174 ms\n"
     ]
    }
   ],
   "source": [
    "%time np.delete(numpy_array, t)\n",
    "%time python_list.remove(t)"
   ]
  },
  {
   "cell_type": "markdown",
   "metadata": {
    "collapsed": true
   },
   "source": [
    "# Matplotlib"
   ]
  },
  {
   "cell_type": "code",
   "execution_count": 359,
   "metadata": {
    "collapsed": true
   },
   "outputs": [],
   "source": [
    "from matplotlib import pylab as plt\n",
    "%matplotlib inline"
   ]
  },
  {
   "cell_type": "code",
   "execution_count": 360,
   "metadata": {
    "collapsed": false
   },
   "outputs": [
    {
     "data": {
      "image/png": "[encoded data removed]",
      "text/plain": [
       "<matplotlib.figure.Figure at 0x15771dcd0>"
      ]
     },
     "metadata": {},
     "output_type": "display_data"
    }
   ],
   "source": [
    "plt.figure(1, figsize=(16,8))\n",
    "\n",
    "plt.subplot(121)\n",
    "x = np.arange(-6, 6, 0.05)\n",
    "\n",
    "plt.plot(x, -x, label=r\"$-x$\")\n",
    "plt.plot(x, np.cos(x), label=r\"$\\cos(x)$\")\n",
    "plt.plot(x, np.sin(x), label=r\"$\\sin(x)$\")\n",
    "\n",
    "plt.xlabel(\"X\")\n",
    "plt.ylabel(\"Y\")\n",
    "plt.legend(prop={'size':17})\n",
    "\n",
    "plt.subplot(122)\n",
    "x = np.arange(0, 10, 0.05)\n",
    "\n",
    "y = [np.log(i) if i != 0 else 0 for i in x ]\n",
    "plt.plot(x, y, label=r\"$\\log(x)$\")\n",
    "\n",
    "plt.plot(x, np.sqrt(x), label=r\"$\\sqrt{x}$\")\n",
    "\n",
    "y = [1/float(i) if i != 0 else 0 for i in x ]\n",
    "plt.plot(x, y, label=r'$\\frac{1}{x}$')\n",
    "\n",
    "plt.legend(prop={'size':17})\n",
    "plt.xlabel(\"X\")\n",
    "plt.ylabel(\"Y\")\n",
    "\n",
    "\n",
    "plt.savefig(\"plot.png\")"
   ]
  },
  {
   "cell_type": "code",
   "execution_count": 361,
   "metadata": {
    "collapsed": false
   },
   "outputs": [
    {
     "name": "stdout",
     "output_type": "stream",
     "text": [
      "homework.ipynb plot.png\r\n"
     ]
    }
   ],
   "source": [
    "!ls"
   ]
  },
  {
   "cell_type": "markdown",
   "metadata": {},
   "source": [
    "# SciPy"
   ]
  },
  {
   "cell_type": "code",
   "execution_count": 362,
   "metadata": {
    "collapsed": true
   },
   "outputs": [],
   "source": [
    "from scipy import linalg"
   ]
  },
  {
   "cell_type": "markdown",
   "metadata": {},
   "source": [
    "## 1. Генерация матрицы"
   ]
  },
  {
   "cell_type": "code",
   "execution_count": 363,
   "metadata": {
    "collapsed": false
   },
   "outputs": [],
   "source": [
    "X = np.random.randn(5, 5)"
   ]
  },
  {
   "cell_type": "code",
   "execution_count": 364,
   "metadata": {
    "collapsed": false
   },
   "outputs": [
    {
     "name": "stdout",
     "output_type": "stream",
     "text": [
      "[[ 1.4526791  -1.47444873  1.30176401  1.20594559  0.967346  ]\n",
      " [-0.27695763  0.13203781  0.56314658 -0.65985934  0.09655921]\n",
      " [ 0.76302654  0.87267659 -0.55112868  0.25737245  0.37091296]\n",
      " [-0.70676668  2.37439046 -0.40191682  0.99636674 -0.50081018]\n",
      " [ 2.08846884  0.70346233 -2.17564604 -0.50573089  1.76805533]]\n"
     ]
    }
   ],
   "source": [
    "print X"
   ]
  },
  {
   "cell_type": "markdown",
   "metadata": {},
   "source": [
    "## 2. Поиск собственных чисел и векторов"
   ]
  },
  {
   "cell_type": "code",
   "execution_count": 365,
   "metadata": {
    "collapsed": false
   },
   "outputs": [
    {
     "name": "stdout",
     "output_type": "stream",
     "text": [
      "[-1.39267859+0.j          2.61731363+0.j          1.04322339+1.19232649j\n",
      "  1.04322339-1.19232649j  0.48692848+0.j        ]\n",
      "[[ 0.57479414+0.j          0.42676932+0.j         -0.35090561+0.21762465j\n",
      "  -0.35090561-0.21762465j  0.64818195+0.j        ]\n",
      " [ 0.18199508+0.j          0.11498394+0.j          0.27492059-0.10951699j\n",
      "   0.27492059+0.10951699j  0.14686254+0.j        ]\n",
      " [-0.34110928+0.j          0.20368887+0.j          0.03510927-0.06097428j\n",
      "   0.03510927+0.06097428j  0.32546831+0.j        ]\n",
      " [-0.21268043+0.j         -0.31937623+0.j         -0.30732392-0.48891491j\n",
      "  -0.30732392+0.48891491j -0.16855691+0.j        ]\n",
      " [-0.68913060+0.j          0.81311519+0.j          0.63521112+0.j\n",
      "   0.63521112-0.j         -0.65111482+0.j        ]]\n"
     ]
    }
   ],
   "source": [
    "vals, vectors = linalg.eig(X)\n",
    "print vals\n",
    "print vectors"
   ]
  },
  {
   "cell_type": "markdown",
   "metadata": {},
   "source": [
    "## 3. Проверка"
   ]
  },
  {
   "cell_type": "code",
   "execution_count": 366,
   "metadata": {
    "collapsed": false
   },
   "outputs": [
    {
     "name": "stdout",
     "output_type": "stream",
     "text": [
      "True\n",
      "True\n",
      "True\n",
      "True\n",
      "True\n"
     ]
    }
   ],
   "source": [
    "for val, vec in zip(vals, vectors.T):\n",
    "    print np.allclose(np.dot(X, vec), val * vec)"
   ]
  }
 ],
 "metadata": {
  "anaconda-cloud": {},
  "kernelspec": {
   "display_name": "Python [Root]",
   "language": "python",
   "name": "Python [Root]"
  },
  "language_info": {
   "codemirror_mode": {
    "name": "ipython",
    "version": 2
   },
   "file_extension": ".py",
   "mimetype": "text/x-python",
   "name": "python",
   "nbconvert_exporter": "python",
   "pygments_lexer": "ipython2",
   "version": "2.7.12"
  }
 },
 "nbformat": 4,
 "nbformat_minor": 0
}
